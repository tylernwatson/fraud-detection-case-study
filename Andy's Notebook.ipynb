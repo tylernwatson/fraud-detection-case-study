{
 "cells": [
  {
   "cell_type": "code",
<<<<<<< HEAD
   "execution_count": 307,
=======
   "execution_count": 25,
>>>>>>> 391b933d4a71c080b6e9c555a9421d5f27d3ea95
   "metadata": {
    "collapsed": true
   },
   "outputs": [],
   "source": [
    "import numpy as np"
   ]
  },
  {
   "cell_type": "code",
<<<<<<< HEAD
   "execution_count": 136,
   "metadata": {},
=======
   "execution_count": 78,
   "metadata": {
    "collapsed": true
   },
>>>>>>> 391b933d4a71c080b6e9c555a9421d5f27d3ea95
   "outputs": [],
   "source": [
    "from sklearn.metrics import confusion_matrix"
   ]
  },
  {
   "cell_type": "code",
   "execution_count": 351,
   "metadata": {},
   "outputs": [],
   "source": [
    "from sklearn.model_selection import train_test_split\n",
    "from sklearn.feature_extraction.text import TfidfVectorizer\n",
    "from sklearn.linear_model import LogisticRegression\n",
    "from sklearn.naive_bayes import MultinomialNB\n",
    "from sklearn.ensemble import RandomForestClassifier"
   ]
  },
  {
   "cell_type": "code",
<<<<<<< HEAD
   "execution_count": 333,
   "metadata": {},
=======
   "execution_count": null,
   "metadata": {
    "collapsed": true
   },
   "outputs": [],
   "source": []
  },
  {
   "cell_type": "code",
   "execution_count": 125,
   "metadata": {
    "collapsed": true
   },
>>>>>>> 391b933d4a71c080b6e9c555a9421d5f27d3ea95
   "outputs": [],
   "source": [
    "import pandas as pd\n",
    "from zipfile import ZipFile\n",
    "\n",
    "def load_zip_to_pd(filename):\n",
    "    #returns dataframe of zipped JSON file\n",
    "    zip = ZipFile(filename)\n",
    "    zip.extractall()\n",
    "\n",
    "    return pd.read_json('data.{}'.format('json'))"
   ]
  },
  {
   "cell_type": "code",
   "execution_count": 334,
   "metadata": {
    "collapsed": true
   },
   "outputs": [],
   "source": [
    "from HTMLParser import HTMLParser\n",
    "import re\n",
    "\n",
    "class MLStripper(HTMLParser):\n",
    "    def __init__(self):\n",
    "        self.reset()\n",
    "        self.fed = []\n",
    "    def handle_data(self, d):\n",
    "        self.fed.append(d)\n",
    "    def get_data(self):\n",
    "        return ''.join(self.fed)\n",
    "\n",
    "def strip_tags(html):\n",
    "    s = MLStripper()\n",
    "    s.feed(html)\n",
    "    return re.sub('[^A-Za-z]+', ' ', s.get_data())"
   ]
  },
  {
   "cell_type": "code",
   "execution_count": 335,
   "metadata": {},
   "outputs": [],
   "source": [
    "#load data and add Fraud column\n",
    "df = load_zip_to_pd('data.zip')\n",
    "\n",
    "df[\"Fraud\"] = ((df['acct_type'] == 'fraudster') \n",
    "               | (df['acct_type'] == 'fraudster_event') \n",
    "               | (df['acct_type'] == 'fraudster_att')).astype(int)"
   ]
  },
  {
   "cell_type": "code",
   "execution_count": null,
   "metadata": {},
   "outputs": [],
   "source": []
  },
  {
   "cell_type": "code",
   "execution_count": 338,
   "metadata": {},
   "outputs": [
    {
     "data": {
      "text/plain": [
       "MultinomialNB(alpha=0.01, class_prior=None, fit_prior=True)"
      ]
     },
     "execution_count": 338,
     "metadata": {},
     "output_type": "execute_result"
    }
   ],
   "source": [
    "# MultinomialNB classifier using text from description\n",
    "docs_train, docs_test, y_train, y_test = train_test_split(df['description'], df['Fraud'])\n",
    "vect = TfidfVectorizer(stop_words='english', preprocessor=strip_tags, analyzer='word', max_df=.5)\n",
    "X_train = vect.fit_transform(docs_train)\n",
    "X_test = vect.transform(docs_test)\n",
    "mnnb = MultinomialNB(alpha=.01)\n",
    "mnnb.fit(X_train, y_train)"
   ]
  },
  {
   "cell_type": "code",
   "execution_count": 339,
   "metadata": {},
   "outputs": [
    {
     "name": "stdout",
     "output_type": "stream",
     "text": [
      "MN naive recall: 0.220543806647\n",
      "MN naive precision: 0.598360655738\n",
      "Accuracy on MN naive bayes: 0.914365411437\n"
     ]
    }
   ],
   "source": [
    "tn, fp, fn, tp = confusion_matrix(y_test, mnnb.predict(X_test)).ravel()\n",
    "print \"MN naive recall:\", float(tp) / (tp + fn)\n",
    "print \"MN naive precision:\", float(tp) / (tp + fp)\n",
    "print \"Accuracy on MN naive bayes:\", mnnb.score(X_test, y_test)"
   ]
  },
  {
   "cell_type": "code",
<<<<<<< HEAD
   "execution_count": 347,
   "metadata": {},
=======
   "execution_count": 252,
   "metadata": {
    "collapsed": true
   },
>>>>>>> 391b933d4a71c080b6e9c555a9421d5f27d3ea95
   "outputs": [],
   "source": [
    "train_probas = mnnb.predict_proba(X_train)\n",
    "test_probas = mnnb.predict_proba(X_test)"
   ]
  },
  {
   "cell_type": "code",
   "execution_count": 350,
   "metadata": {},
   "outputs": [
    {
     "data": {
      "text/plain": [
       "<10752x115622 sparse matrix of type '<type 'numpy.float64'>'\n",
       "\twith 995602 stored elements in Compressed Sparse Row format>"
      ]
     },
     "execution_count": 350,
     "metadata": {},
     "output_type": "execute_result"
    }
   ],
   "source": [
<<<<<<< HEAD
    "X_train"
=======
    "mnnb"
   ]
  },
  {
   "cell_type": "code",
   "execution_count": null,
   "metadata": {
    "collapsed": true
   },
   "outputs": [],
   "source": []
  },
  {
   "cell_type": "raw",
   "metadata": {},
   "source": [
    "mnnb.predict_proba(X_train)[:, 1].round(3)"
>>>>>>> 391b933d4a71c080b6e9c555a9421d5f27d3ea95
   ]
  },
  {
   "cell_type": "code",
   "execution_count": 257,
   "metadata": {
    "collapsed": true
   },
   "outputs": [],
   "source": [
    "X = vect.fit_transform(df['description'])\n",
    "y = df['Fraud']\n",
    "\n",
    "mnnb = MultinomialNB(alpha=.01)\n",
    "mnnb.fit(X, y)\n",
    "probas = mnnb.predict_proba(X)[:, 1]"
   ]
  },
  {
   "cell_type": "code",
<<<<<<< HEAD
   "execution_count": 266,
   "metadata": {},
=======
   "execution_count": 136,
   "metadata": {
    "collapsed": true
   },
>>>>>>> 391b933d4a71c080b6e9c555a9421d5f27d3ea95
   "outputs": [],
   "source": [
    "df['NB_probas'] = probas"
   ]
  },
  {
   "cell_type": "code",
<<<<<<< HEAD
   "execution_count": null,
   "metadata": {},
=======
   "execution_count": 140,
   "metadata": {
    "collapsed": true
   },
>>>>>>> 391b933d4a71c080b6e9c555a9421d5f27d3ea95
   "outputs": [],
   "source": []
  },
  {
   "cell_type": "raw",
   "metadata": {},
   "source": [
    "mnnb.predict_proba(X_train)[:, 1].round(3)"
   ]
  },
  {
   "cell_type": "code",
<<<<<<< HEAD
   "execution_count": 196,
=======
   "execution_count": 82,
>>>>>>> 391b933d4a71c080b6e9c555a9421d5f27d3ea95
   "metadata": {
    "collapsed": true
   },
   "outputs": [],
   "source": [
    "# log_reg recall: 0.0849673202614\n",
    "# Accuracy on test set: 0.92189679219"
   ]
  },
  {
   "cell_type": "code",
   "execution_count": 83,
   "metadata": {
    "scrolled": true
   },
   "outputs": [
    {
     "name": "stdout",
     "output_type": "stream",
     "text": [
      "87.1523588554\n",
      "402.683072677\n"
     ]
    }
   ],
   "source": [
    "print df[df['Fraud'] == 1]['user_age'].mean()\n",
    "\n",
    "print df[df['Fraud'] == 0]['user_age'].mean()"
   ]
  },
  {
   "cell_type": "code",
   "execution_count": 84,
   "metadata": {},
   "outputs": [
    {
     "name": "stdout",
     "output_type": "stream",
     "text": [
      "1508.8863109\n",
      "3886.99455688\n"
     ]
    }
   ],
   "source": [
    "print df[df['Fraud'] == 1]['body_length'].mean()\n",
    "\n",
    "print df[df['Fraud'] == 0]['body_length'].mean()"
   ]
  },
  {
   "cell_type": "code",
   "execution_count": 85,
   "metadata": {},
   "outputs": [
    {
     "name": "stdout",
     "output_type": "stream",
     "text": [
      "USD    858\n",
      "GBP    343\n",
      "CAD     42\n",
      "EUR     37\n",
      "AUD     12\n",
      "MXN      1\n",
      "Name: currency, dtype: int64\n",
      "USD    8838\n",
      "GBP    1879\n",
      "CAD    1280\n",
      "AUD     767\n",
      "EUR     225\n",
      "NZD      55\n",
      "Name: currency, dtype: int64\n"
     ]
    }
   ],
   "source": [
    "print df[df['Fraud'] == 1]['currency'].value_counts()\n",
    "\n",
    "print df[df['Fraud'] == 0]['currency'].value_counts()"
   ]
  },
  {
   "cell_type": "code",
<<<<<<< HEAD
   "execution_count": 352,
   "metadata": {},
=======
   "execution_count": 162,
   "metadata": {
    "collapsed": true
   },
   "outputs": [],
   "source": [
    "import numpy as np"
   ]
  },
  {
   "cell_type": "code",
   "execution_count": 164,
   "metadata": {
    "collapsed": true
   },
>>>>>>> 391b933d4a71c080b6e9c555a9421d5f27d3ea95
   "outputs": [],
   "source": [
    "df_num = df.select_dtypes(include=[np.number])\n",
    "\n",
    "df_num.fillna(value=0, inplace=True)"
   ]
  },
  {
   "cell_type": "code",
   "execution_count": 353,
   "metadata": {},
   "outputs": [
    {
     "name": "stdout",
     "output_type": "stream",
     "text": [
      "RF Accuracy 0.971827057183\n",
      "RF Recall: 0.756329113924\n",
      "RF Precision: 0.908745247148\n"
     ]
    }
   ],
   "source": [
    "\n",
    "\n",
    "X = df_num.drop(['Fraud'], axis=1)\n",
    "y = df_num['Fraud']\n",
    "\n",
    "X_train, X_test, y_train, y_test = train_test_split(X, y)\n",
    "\n",
    "\n",
    "rf_classifier = RandomForestClassifier().fit(X_train, y_train)\n",
    "\n",
    "\n",
    "confusion_matrix(y_test, rf_classifier.predict(X_test))\n",
    "\n",
    "tn, fp, fn, tp = confusion_matrix(y_test, rf_classifier.predict(X_test)).ravel()\n",
    "print \"RF Accuracy\", rf_classifier.score(X_test, y_test)\n",
    "print \"RF Recall:\", float(tp) / (tp + fn)\n",
    "print \"RF Precision:\", float(tp) / (tp + fp)\n"
   ]
  },
  {
   "cell_type": "code",
   "execution_count": null,
   "metadata": {},
   "outputs": [],
   "source": []
  },
  {
   "cell_type": "code",
   "execution_count": null,
   "metadata": {},
   "outputs": [],
   "source": []
  },
  {
   "cell_type": "code",
   "execution_count": null,
   "metadata": {},
   "outputs": [],
   "source": []
  },
  {
   "cell_type": "code",
   "execution_count": null,
   "metadata": {
    "collapsed": true
   },
   "outputs": [],
   "source": []
  }
 ],
 "metadata": {
  "kernelspec": {
   "display_name": "Python 3",
   "language": "python",
   "name": "python3"
  },
  "language_info": {
   "codemirror_mode": {
    "name": "ipython",
    "version": 3
   },
   "file_extension": ".py",
   "mimetype": "text/x-python",
   "name": "python",
   "nbconvert_exporter": "python",
   "pygments_lexer": "ipython3",
   "version": "3.6.3"
  }
 },
 "nbformat": 4,
 "nbformat_minor": 2
}
