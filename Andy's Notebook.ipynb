{
 "cells": [
  {
   "cell_type": "code",
   "execution_count": 354,
   "metadata": {
    "collapsed": true
   },
   "outputs": [],
   "source": [
    "import numpy as np"
   ]
  },
  {
   "cell_type": "code",
   "execution_count": 355,
   "metadata": {},
   "outputs": [],
   "source": [
    "from sklearn.metrics import confusion_matrix"
   ]
  },
  {
   "cell_type": "code",
   "execution_count": 356,
   "metadata": {},
   "outputs": [],
   "source": [
    "from sklearn.model_selection import train_test_split\n",
    "from sklearn.feature_extraction.text import TfidfVectorizer\n",
    "from sklearn.linear_model import LogisticRegression\n",
    "from sklearn.naive_bayes import MultinomialNB\n",
    "from sklearn.ensemble import RandomForestClassifier"
   ]
  },
  {
   "cell_type": "code",
   "execution_count": 357,
   "metadata": {},
   "outputs": [],
   "source": [
    "import pandas as pd\n",
    "from zipfile import ZipFile\n",
    "\n",
    "def load_zip_to_pd(filename):\n",
    "    #returns dataframe of zipped JSON file\n",
    "    zip = ZipFile(filename)\n",
    "    zip.extractall()\n",
    "\n",
    "    return pd.read_json('data.{}'.format('json'))"
   ]
  },
  {
   "cell_type": "code",
   "execution_count": 358,
   "metadata": {
    "collapsed": true
   },
   "outputs": [],
   "source": [
    "from HTMLParser import HTMLParser\n",
    "import re\n",
    "\n",
    "class MLStripper(HTMLParser):\n",
    "    def __init__(self):\n",
    "        self.reset()\n",
    "        self.fed = []\n",
    "    def handle_data(self, d):\n",
    "        self.fed.append(d)\n",
    "    def get_data(self):\n",
    "        return ''.join(self.fed)\n",
    "\n",
    "def strip_tags(html):\n",
    "    s = MLStripper()\n",
    "    s.feed(html)\n",
    "    return re.sub('[^A-Za-z]+', ' ', s.get_data())"
   ]
  },
  {
   "cell_type": "code",
   "execution_count": 359,
   "metadata": {},
   "outputs": [],
   "source": [
    "#load data and add Fraud column\n",
    "df = load_zip_to_pd('data.zip')\n",
    "\n",
    "df[\"Fraud\"] = ((df['acct_type'] == 'fraudster') \n",
    "               | (df['acct_type'] == 'fraudster_event') \n",
    "               | (df['acct_type'] == 'fraudster_att')).astype(int)"
   ]
  },
  {
   "cell_type": "code",
   "execution_count": null,
   "metadata": {},
   "outputs": [],
   "source": []
  },
  {
   "cell_type": "code",
   "execution_count": 360,
   "metadata": {},
   "outputs": [
    {
     "data": {
      "text/plain": [
       "MultinomialNB(alpha=0.01, class_prior=None, fit_prior=True)"
      ]
     },
     "execution_count": 360,
     "metadata": {},
     "output_type": "execute_result"
    }
   ],
   "source": [
    "# MultinomialNB classifier using text from description\n",
    "docs_train, docs_test, y_train, y_test = train_test_split(df['description'], df['Fraud'])\n",
    "vect = TfidfVectorizer(stop_words='english', preprocessor=strip_tags, analyzer='word', max_df=.5)\n",
    "X_train = vect.fit_transform(docs_train)\n",
    "X_test = vect.transform(docs_test)\n",
    "mnnb = MultinomialNB(alpha=.01)\n",
    "mnnb.fit(X_train, y_train)"
   ]
  },
  {
   "cell_type": "code",
   "execution_count": 361,
   "metadata": {},
   "outputs": [
    {
     "name": "stdout",
     "output_type": "stream",
     "text": [
      "MN naive recall: 0.227963525836\n",
      "MN naive precision: 0.609756097561\n",
      "Accuracy on MN naive bayes: 0.915760111576\n"
     ]
    }
   ],
   "source": [
    "tn, fp, fn, tp = confusion_matrix(y_test, mnnb.predict(X_test)).ravel()\n",
    "print \"MN naive recall:\", float(tp) / (tp + fn)\n",
    "print \"MN naive precision:\", float(tp) / (tp + fp)\n",
    "print \"Accuracy on MN naive bayes:\", mnnb.score(X_test, y_test)"
   ]
  },
  {
   "cell_type": "code",
   "execution_count": 347,
   "metadata": {},
   "outputs": [],
   "source": [
    "# train_probas = mnnb.predict_proba(X_train)\n",
    "# test_probas = mnnb.predict_proba(X_test)"
   ]
  },
  {
   "cell_type": "code",
   "execution_count": null,
   "metadata": {},
   "outputs": [],
   "source": []
  },
  {
   "cell_type": "code",
   "execution_count": 362,
   "metadata": {
    "collapsed": true
   },
   "outputs": [],
   "source": [
    "X = vect.fit_transform(df['description'])\n",
    "y = df['Fraud']\n",
    "\n",
    "mnnb = MultinomialNB(alpha=.01)\n",
    "mnnb.fit(X, y)\n",
    "probas = mnnb.predict_proba(X)[:, 1]"
   ]
  },
  {
   "cell_type": "code",
   "execution_count": 363,
   "metadata": {},
   "outputs": [],
   "source": [
    "df['NB_probas'] = probas"
   ]
  },
  {
   "cell_type": "code",
   "execution_count": 379,
   "metadata": {},
   "outputs": [
    {
     "data": {
      "text/plain": [
       "['approx_payout_date',\n",
       " 'body_length',\n",
       " 'channels',\n",
       " 'delivery_method',\n",
       " 'event_created',\n",
       " 'event_end',\n",
       " 'event_published',\n",
       " 'event_start',\n",
       " 'fb_published',\n",
       " 'gts',\n",
       " 'has_analytics',\n",
       " 'has_header',\n",
       " 'has_logo',\n",
       " 'name_length',\n",
       " 'num_order',\n",
       " 'num_payouts',\n",
       " 'object_id',\n",
       " 'org_facebook',\n",
       " 'org_twitter',\n",
       " 'sale_duration',\n",
       " 'sale_duration2',\n",
       " 'show_map',\n",
       " 'user_age',\n",
       " 'user_created',\n",
       " 'user_type',\n",
       " 'venue_latitude',\n",
       " 'venue_longitude',\n",
       " 'Fraud',\n",
       " 'NB_probas']"
      ]
     },
     "execution_count": 379,
     "metadata": {},
     "output_type": "execute_result"
    }
   ],
   "source": [
    "[str(x) for x  in df_num.columns]"
   ]
  },
  {
   "cell_type": "code",
   "execution_count": 368,
   "metadata": {},
   "outputs": [
    {
     "name": "stdout",
     "output_type": "stream",
     "text": [
      "RF Accuracy 0.987726638773\n",
      "RF Recall: 0.913621262458\n",
      "RF Precision: 0.938566552901\n",
      "confusion matrix:\n",
      "275 18\n",
      "26 3266\n"
     ]
    }
   ],
   "source": [
    "df_num = df.select_dtypes(include=[np.number])\n",
    "df_num.fillna(value=0, inplace=True)\n",
    "\n",
    "X = df_num.drop(['Fraud'], axis=1)\n",
    "y = df_num['Fraud']\n",
    "\n",
    "X_train, X_test, y_train, y_test = train_test_split(X, y)\n",
    "\n",
    "\n",
    "rf_classifier = RandomForestClassifier().fit(X_train, y_train)\n",
    "\n",
    "\n",
    "confusion_matrix(y_test, rf_classifier.predict(X_test))\n",
    "\n",
    "tn, fp, fn, tp = confusion_matrix(y_test, rf_classifier.predict(X_test)).ravel()\n",
    "print \"RF Accuracy\", rf_classifier.score(X_test, y_test)\n",
    "print \"RF Recall:\", float(tp) / (tp + fn)\n",
    "print \"RF Precision:\", float(tp) / (tp + fp)\n",
    "print \"confusion matrix:\"\n",
    "print tp, fp\n",
    "print fn, tn"
   ]
  },
  {
   "cell_type": "code",
   "execution_count": 371,
   "metadata": {},
   "outputs": [
    {
     "name": "stdout",
     "output_type": "stream",
     "text": [
      "[ 0.9869828   0.9893073   0.98976744  0.98930233  0.98697674]\n"
     ]
    }
   ],
   "source": [
    "from sklearn.model_selection import cross_val_score\n",
    "scores = cross_val_score(rf_classifier, X_train, y_train, cv=5)\n",
    "print scores"
   ]
  },
  {
   "cell_type": "code",
   "execution_count": 196,
   "metadata": {
    "collapsed": true
   },
   "outputs": [],
   "source": [
    "# log_reg recall: 0.0849673202614\n",
    "# Accuracy on test set: 0.92189679219"
   ]
  },
  {
   "cell_type": "code",
   "execution_count": 83,
   "metadata": {
    "scrolled": true
   },
   "outputs": [
    {
     "name": "stdout",
     "output_type": "stream",
     "text": [
      "87.1523588554\n",
      "402.683072677\n"
     ]
    }
   ],
   "source": [
    "print df[df['Fraud'] == 1]['user_age'].mean()\n",
    "\n",
    "print df[df['Fraud'] == 0]['user_age'].mean()"
   ]
  },
  {
   "cell_type": "code",
   "execution_count": 84,
   "metadata": {},
   "outputs": [
    {
     "name": "stdout",
     "output_type": "stream",
     "text": [
      "1508.8863109\n",
      "3886.99455688\n"
     ]
    }
   ],
   "source": [
    "print df[df['Fraud'] == 1]['body_length'].mean()\n",
    "\n",
    "print df[df['Fraud'] == 0]['body_length'].mean()"
   ]
  },
  {
   "cell_type": "code",
   "execution_count": 85,
   "metadata": {},
   "outputs": [
    {
     "name": "stdout",
     "output_type": "stream",
     "text": [
      "USD    858\n",
      "GBP    343\n",
      "CAD     42\n",
      "EUR     37\n",
      "AUD     12\n",
      "MXN      1\n",
      "Name: currency, dtype: int64\n",
      "USD    8838\n",
      "GBP    1879\n",
      "CAD    1280\n",
      "AUD     767\n",
      "EUR     225\n",
      "NZD      55\n",
      "Name: currency, dtype: int64\n"
     ]
    }
   ],
   "source": [
    "print df[df['Fraud'] == 1]['currency'].value_counts()\n",
    "\n",
    "print df[df['Fraud'] == 0]['currency'].value_counts()"
   ]
  },
  {
   "cell_type": "code",
   "execution_count": null,
   "metadata": {},
   "outputs": [],
   "source": []
  },
  {
   "cell_type": "code",
   "execution_count": null,
   "metadata": {},
   "outputs": [],
   "source": []
  },
  {
   "cell_type": "code",
   "execution_count": null,
   "metadata": {},
   "outputs": [],
   "source": []
  },
  {
   "cell_type": "code",
   "execution_count": null,
   "metadata": {
    "collapsed": true
   },
   "outputs": [],
   "source": []
  }
 ],
 "metadata": {
  "kernelspec": {
   "display_name": "Python 2",
   "language": "python",
   "name": "python2"
  },
  "language_info": {
   "codemirror_mode": {
    "name": "ipython",
    "version": 2
   },
   "file_extension": ".py",
   "mimetype": "text/x-python",
   "name": "python",
   "nbconvert_exporter": "python",
   "pygments_lexer": "ipython2",
   "version": "2.7.13"
  }
 },
 "nbformat": 4,
 "nbformat_minor": 2
}
