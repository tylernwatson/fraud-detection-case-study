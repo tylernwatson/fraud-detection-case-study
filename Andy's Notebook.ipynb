{
 "cells": [
  {
   "cell_type": "code",
   "execution_count": 25,
   "metadata": {
    "collapsed": true
   },
   "outputs": [],
   "source": [
    "import pandas as pd\n",
    "from zipfile import ZipFile\n",
    "\n",
    "def load_zip_to_pd(filename):\n",
    "    #returns dataframe of zipped JSON file\n",
    "    zip = ZipFile(filename)\n",
    "    zip.extractall()\n",
    "\n",
    "    return pd.read_json('data.{}'.format('json'))"
   ]
  },
  {
   "cell_type": "code",
   "execution_count": 78,
   "metadata": {
    "collapsed": true
   },
   "outputs": [],
   "source": [
    "df = load_zip_to_pd('data.zip')"
   ]
  },
  {
   "cell_type": "code",
   "execution_count": 79,
   "metadata": {},
   "outputs": [
    {
     "data": {
      "text/plain": [
       "premium             12373\n",
       "fraudster_event       851\n",
       "fraudster             437\n",
       "spammer_limited       218\n",
       "spammer_warn          144\n",
       "tos_warn               91\n",
       "spammer_noinvite       84\n",
       "tos_lock               77\n",
       "locked                 54\n",
       "fraudster_att           5\n",
       "spammer_web             2\n",
       "spammer                 1\n",
       "Name: acct_type, dtype: int64"
      ]
     },
     "execution_count": 79,
     "metadata": {},
     "output_type": "execute_result"
    }
   ],
   "source": [
    "df['acct_type'].value_counts()"
   ]
  },
  {
   "cell_type": "code",
   "execution_count": 80,
   "metadata": {},
   "outputs": [
    {
     "name": "stdout",
     "output_type": "stream",
     "text": [
      "<class 'pandas.core.frame.DataFrame'>\n",
      "Int64Index: 14337 entries, 0 to 14336\n",
      "Data columns (total 44 columns):\n",
      "acct_type             14337 non-null object\n",
      "approx_payout_date    14337 non-null int64\n",
      "body_length           14337 non-null int64\n",
      "channels              14337 non-null int64\n",
      "country               14256 non-null object\n",
      "currency              14337 non-null object\n",
      "delivery_method       14321 non-null float64\n",
      "description           14337 non-null object\n",
      "email_domain          14337 non-null object\n",
      "event_created         14337 non-null int64\n",
      "event_end             14337 non-null int64\n",
      "event_published       14238 non-null float64\n",
      "event_start           14337 non-null int64\n",
      "fb_published          14337 non-null int64\n",
      "gts                   14337 non-null float64\n",
      "has_analytics         14337 non-null int64\n",
      "has_header            8928 non-null float64\n",
      "has_logo              14337 non-null int64\n",
      "listed                14337 non-null object\n",
      "name                  14337 non-null object\n",
      "name_length           14337 non-null int64\n",
      "num_order             14337 non-null int64\n",
      "num_payouts           14337 non-null int64\n",
      "object_id             14337 non-null int64\n",
      "org_desc              14337 non-null object\n",
      "org_facebook          14278 non-null float64\n",
      "org_name              14337 non-null object\n",
      "org_twitter           14278 non-null float64\n",
      "payee_name            14337 non-null object\n",
      "payout_type           14337 non-null object\n",
      "previous_payouts      14337 non-null object\n",
      "sale_duration         14182 non-null float64\n",
      "sale_duration2        14337 non-null int64\n",
      "show_map              14337 non-null int64\n",
      "ticket_types          14337 non-null object\n",
      "user_age              14337 non-null int64\n",
      "user_created          14337 non-null int64\n",
      "user_type             14337 non-null int64\n",
      "venue_address         14337 non-null object\n",
      "venue_country         13261 non-null object\n",
      "venue_latitude        13261 non-null float64\n",
      "venue_longitude       13261 non-null float64\n",
      "venue_name            13261 non-null object\n",
      "venue_state           13261 non-null object\n",
      "dtypes: float64(9), int64(18), object(17)\n",
      "memory usage: 4.9+ MB\n"
     ]
    }
   ],
   "source": [
    "df.info()"
   ]
  },
  {
   "cell_type": "code",
   "execution_count": null,
   "metadata": {
    "collapsed": true
   },
   "outputs": [],
   "source": []
  },
  {
   "cell_type": "code",
   "execution_count": 125,
   "metadata": {
    "collapsed": true
   },
   "outputs": [],
   "source": [
    "from sklearn.model_selection import train_test_split\n",
    "from sklearn.feature_extraction.text import TfidfVectorizer\n",
    "from sklearn.linear_model import LogisticRegression\n",
    "from sklearn.naive_bayes import MultinomialNB"
   ]
  },
  {
   "cell_type": "code",
   "execution_count": 144,
   "metadata": {
    "collapsed": true
   },
   "outputs": [],
   "source": [
    "from HTMLParser import HTMLParser\n",
    "import re\n",
    "\n",
    "class MLStripper(HTMLParser):\n",
    "    def __init__(self):\n",
    "        self.reset()\n",
    "        self.fed = []\n",
    "    def handle_data(self, d):\n",
    "        self.fed.append(d)\n",
    "    def get_data(self):\n",
    "        return ''.join(self.fed)\n",
    "\n",
    "def strip_tags(html):\n",
    "    s = MLStripper()\n",
    "    s.feed(html)\n",
    "    return re.sub('[^A-Za-z]+', ' ', s.get_data())"
   ]
  },
  {
   "cell_type": "code",
   "execution_count": 199,
   "metadata": {},
   "outputs": [
    {
     "name": "stdout",
     "output_type": "stream",
     "text": [
      "MN naive recall: 0.265573770492\n",
      "MN naive precision: 0.554794520548\n",
      "Accuracy on MN naive bayes: 0.919386331939\n"
     ]
    }
   ],
   "source": [
    "docs_train, docs_test, y_train, y_test = train_test_split(df['description'], df['Fraud'])\n",
    "vect = TfidfVectorizer(stop_words='english', preprocessor=strip_tags, analyzer='word', max_df=.5)\n",
    "X_train = vect.fit_transform(docs_train)\n",
    "X_test = vect.transform(docs_test)\n",
    "mnnb = MultinomialNB(alpha=.01)\n",
    "mnnb.fit(X_train, y_train)\n",
    "tn, fp, fn, tp = confusion_matrix(y_test, mnnb.predict(X_test)).ravel()\n",
    "print \"MN naive recall:\", float(tp) / (tp + fn)\n",
    "print \"MN naive precision:\", float(tp) / (tp + fp)\n",
    "print \"Accuracy on MN naive bayes:\", mnnb.score(X_test, y_test)"
   ]
  },
  {
   "cell_type": "code",
   "execution_count": 252,
   "metadata": {
    "collapsed": true
   },
   "outputs": [],
   "source": [
    "# vect = TfidfVectorizer(stop_words='english', preprocessor=strip_tags, analyzer='word', max_df=.5)\n",
    "# X = vect.transform(df['description'])\n",
    "# y = df['Fraud']\n",
    "# mnnb = MultinomialNB(alpha=.01)\n",
    "# mnnb.fit(X, y)\n",
    "# mnnb.score(X, y)\n"
   ]
  },
  {
   "cell_type": "code",
   "execution_count": 235,
   "metadata": {},
   "outputs": [
    {
     "data": {
      "text/plain": [
       "TfidfVectorizer(analyzer='word', binary=False, decode_error=u'strict',\n",
       "        dtype=<type 'numpy.int64'>, encoding=u'utf-8', input=u'content',\n",
       "        lowercase=True, max_df=0.5, max_features=None, min_df=1,\n",
       "        ngram_range=(1, 1), norm=u'l2',\n",
       "        preprocessor=<function strip_tags at 0x1b44b8e60>, smooth_idf=True,\n",
       "        stop_words='english', strip_accents=None, sublinear_tf=False,\n",
       "        token_pattern=u'(?u)\\\\b\\\\w\\\\w+\\\\b', tokenizer=None, use_idf=True,\n",
       "        vocabulary=None)"
      ]
     },
     "execution_count": 235,
     "metadata": {},
     "output_type": "execute_result"
    }
   ],
   "source": [
    "mnnb"
   ]
  },
  {
   "cell_type": "code",
   "execution_count": null,
   "metadata": {
    "collapsed": true
   },
   "outputs": [],
   "source": []
  },
  {
   "cell_type": "raw",
   "metadata": {},
   "source": [
    "mnnb.predict_proba(X_train)[:, 1].round(3)"
   ]
  },
  {
   "cell_type": "code",
   "execution_count": 196,
   "metadata": {
    "collapsed": true
   },
   "outputs": [],
   "source": [
    "# log_reg recall: 0.0849673202614\n",
    "# Accuracy on test set: 0.92189679219"
   ]
  },
  {
   "cell_type": "code",
   "execution_count": 136,
   "metadata": {
    "collapsed": true
   },
   "outputs": [],
   "source": [
    "from sklearn.metrics import confusion_matrix"
   ]
  },
  {
   "cell_type": "code",
   "execution_count": 140,
   "metadata": {
    "collapsed": true
   },
   "outputs": [],
   "source": [
    "tn, fp, fn, tp = confusion_matrix(y_test, log_reg.predict(X_test)).ravel()"
   ]
  },
  {
   "cell_type": "code",
   "execution_count": 141,
   "metadata": {},
   "outputs": [
    {
     "name": "stdout",
     "output_type": "stream",
     "text": [
      "23 0\n",
      "318 3244\n"
     ]
    }
   ],
   "source": [
    "print tp, fp\n",
    "print fn, tn"
   ]
  },
  {
   "cell_type": "code",
   "execution_count": 142,
   "metadata": {},
   "outputs": [
    {
     "data": {
      "text/plain": [
       "array([[3244,    0],\n",
       "       [ 318,   23]])"
      ]
     },
     "execution_count": 142,
     "metadata": {},
     "output_type": "execute_result"
    }
   ],
   "source": [
    "confusion_matrix(y_test, log_reg.predict(X_test))"
   ]
  },
  {
   "cell_type": "code",
   "execution_count": 82,
   "metadata": {
    "collapsed": true
   },
   "outputs": [],
   "source": [
    "df[\"Fraud\"] = ((df['acct_type'] == 'fraudster') \n",
    "               | (df['acct_type'] == 'fraudster_event') \n",
    "               | (df['acct_type'] == 'fraudster_att')).astype(int)"
   ]
  },
  {
   "cell_type": "code",
   "execution_count": 83,
   "metadata": {},
   "outputs": [
    {
     "name": "stdout",
     "output_type": "stream",
     "text": [
      "87.1523588554\n",
      "402.683072677\n"
     ]
    }
   ],
   "source": [
    "print df[df['Fraud'] == 1]['user_age'].mean()\n",
    "\n",
    "print df[df['Fraud'] == 0]['user_age'].mean()"
   ]
  },
  {
   "cell_type": "code",
   "execution_count": 84,
   "metadata": {},
   "outputs": [
    {
     "name": "stdout",
     "output_type": "stream",
     "text": [
      "1508.8863109\n",
      "3886.99455688\n"
     ]
    }
   ],
   "source": [
    "print df[df['Fraud'] == 1]['body_length'].mean()\n",
    "\n",
    "print df[df['Fraud'] == 0]['body_length'].mean()"
   ]
  },
  {
   "cell_type": "code",
   "execution_count": 85,
   "metadata": {},
   "outputs": [
    {
     "name": "stdout",
     "output_type": "stream",
     "text": [
      "USD    858\n",
      "GBP    343\n",
      "CAD     42\n",
      "EUR     37\n",
      "AUD     12\n",
      "MXN      1\n",
      "Name: currency, dtype: int64\n",
      "USD    8838\n",
      "GBP    1879\n",
      "CAD    1280\n",
      "AUD     767\n",
      "EUR     225\n",
      "NZD      55\n",
      "Name: currency, dtype: int64\n"
     ]
    }
   ],
   "source": [
    "print df[df['Fraud'] == 1]['currency'].value_counts()\n",
    "\n",
    "print df[df['Fraud'] == 0]['currency'].value_counts()"
   ]
  },
  {
   "cell_type": "code",
   "execution_count": 162,
   "metadata": {
    "collapsed": true
   },
   "outputs": [],
   "source": [
    "import numpy as np"
   ]
  },
  {
   "cell_type": "code",
   "execution_count": 164,
   "metadata": {
    "collapsed": true
   },
   "outputs": [],
   "source": [
    "df_num = df.select_dtypes(include=[np.number])\n",
    "\n",
    "df_num.fillna(value=0, inplace=True)"
   ]
  },
  {
   "cell_type": "code",
   "execution_count": 250,
   "metadata": {},
   "outputs": [
    {
     "name": "stdout",
     "output_type": "stream",
     "text": [
      "Grad Accuracy 0.976290097629\n",
      "Grad Recall: 0.813609467456\n",
      "Grad Precision: 0.925925925926\n",
      "RF Accuracy 0.97489539749\n",
      "RF Recall: 0.810650887574\n",
      "RF Precision: 0.913333333333\n"
     ]
    }
   ],
   "source": [
    "from sklearn.ensemble import RandomForestClassifier\n",
    "\n",
    "X = df_num.drop(['Fraud'], axis=1)\n",
    "y = df_num['Fraud']\n",
    "\n",
    "X_train, X_test, y_train, y_test = train_test_split(X, y)\n",
    "\n",
    "rf_classifier = RandomForestClassifier().fit(X_train, y_train)\n",
    "\n",
    "\n",
    "confusion_matrix(y_test, rf_classifier.predict(X_test))\n",
    "\n",
    "tn, fp, fn, tp = confusion_matrix(y_test, rf_classifier.predict(X_test)).ravel()\n",
    "print \"RF Accuracy\", rf_classifier.score(X_test, y_test)\n",
    "print \"RF Recall:\", float(tp) / (tp + fn)\n",
    "print \"RF Precision:\", float(tp) / (tp + fp)\n"
   ]
  },
  {
   "cell_type": "code",
   "execution_count": 236,
   "metadata": {
    "collapsed": true
   },
   "outputs": [],
   "source": [
    "from sklearn.ensemble import VotingClassifier"
   ]
  },
  {
   "cell_type": "code",
   "execution_count": null,
   "metadata": {
    "collapsed": true
   },
   "outputs": [],
   "source": []
  }
 ],
 "metadata": {
  "kernelspec": {
   "display_name": "Python 3",
   "language": "python",
   "name": "python3"
  },
  "language_info": {
   "codemirror_mode": {
    "name": "ipython",
    "version": 3
   },
   "file_extension": ".py",
   "mimetype": "text/x-python",
   "name": "python",
   "nbconvert_exporter": "python",
   "pygments_lexer": "ipython3",
   "version": "3.6.3"
  }
 },
 "nbformat": 4,
 "nbformat_minor": 2
}
